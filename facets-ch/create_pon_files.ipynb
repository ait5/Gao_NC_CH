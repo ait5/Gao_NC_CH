{
 "cells": [
  {
   "cell_type": "code",
   "execution_count": 2,
   "metadata": {},
   "outputs": [],
   "source": [
    "library(ggplot2)\n",
    "library(dplyr)\n",
    "library(stringr)\n",
    "library(data.table)\n",
    "library(glue)\n",
    "library(IRdisplay)\n",
    "# install facets and facetsCH if you haven't already\n",
    "library(facets)\n",
    "library(facetsCH)"
   ]
  },
  {
   "cell_type": "markdown",
   "metadata": {},
   "source": [
    "# Read in PON Pileups"
   ]
  },
  {
   "cell_type": "code",
   "execution_count": 2,
   "metadata": {},
   "outputs": [],
   "source": [
    "# list of pileup files (from FACETS snp-pileup)\n",
    "pileup_list = paste0(\n",
    "    '/work/isabl/ref/homo_sapiens/GRCh37d5/facets_ch/db/pon_pileups/', \n",
    "    pon[['sample_id']], \n",
    "    '_pileup.tsv.gz'\n",
    ")\n",
    "\n",
    "pileups = lapply(pileup_list, function(file){\n",
    "    fread(file)\n",
    "})"
   ]
  },
  {
   "cell_type": "markdown",
   "metadata": {},
   "source": [
    "# Create Het SNP Whitelist"
   ]
  },
  {
   "cell_type": "markdown",
   "metadata": {},
   "source": [
    "## Calculate distribution"
   ]
  },
  {
   "cell_type": "code",
   "execution_count": 4,
   "metadata": {},
   "outputs": [
    {
     "name": "stderr",
     "output_type": "stream",
     "text": [
      "Warning message in ifelse(chr == \"X\", 23, as.integer(chr)):\n",
      "“NAs introduced by coercion”\n"
     ]
    }
   ],
   "source": [
    "# calculate BAF\n",
    "baf_pileups = lapply(pileups, function(pu) {\n",
    "    pu %>% mutate(\n",
    "        depth = File1R + File1A,\n",
    "        baf = File1A / depth,\n",
    "        valor = log2(File1A/File1R)\n",
    "    ) %>%\n",
    "    select(chr = Chromosome, pos = Position, depth, baf, valor) %>%\n",
    "    filter(depth > 50 & depth < 2000) %>%\n",
    "    filter(baf < 0.9 & baf > 0.1)\n",
    "})\n",
    "\n",
    "hets_iwg = Reduce(rbind, baf_pileups) %>% \n",
    "    mutate(chr = ifelse(chr == 'X', 23, as.integer(chr))) %>%\n",
    "    mutate(snp_index = paste0(chr, '_', pos))"
   ]
  },
  {
   "cell_type": "code",
   "execution_count": 5,
   "metadata": {},
   "outputs": [],
   "source": [
    "# calculate SNP-specific BAF distribution across samples\n",
    "snp_bafs_iwg = hets_iwg %>%\n",
    "    group_by(chr, pos) %>%\n",
    "    summarise(\n",
    "        baf_median = median(baf),\n",
    "        n = n(),\n",
    "        baf_sd = sd(baf),\n",
    "        valor_median = median(valor),\n",
    "        valor_sd = sd(valor)\n",
    "    ) %>%\n",
    "    ungroup() %>%\n",
    "    mutate(chr = ifelse(chr == 'X', 23, as.integer(chr))) %>%\n",
    "    filter(!is.na(chr)) %>%\n",
    "    mutate(snp_index = paste0(chr, '_', pos))"
   ]
  },
  {
   "cell_type": "markdown",
   "metadata": {},
   "source": [
    "## Diagnostic plots"
   ]
  },
  {
   "cell_type": "code",
   "execution_count": 7,
   "metadata": {},
   "outputs": [
    {
     "data": {
      "image/png": "[encoded data removed]",
      "text/plain": [
       "plot without title"
      ]
     },
     "metadata": {
      "image/png": {
       "height": 200,
       "width": 500
      },
      "text/plain": {
       "height": 200,
       "width": 500
      }
     },
     "output_type": "display_data"
    }
   ],
   "source": [
    "options(repr.plot.width = 5, repr.plot.height = 2, repr.plot.res = 200)\n",
    "\n",
    "# visualize and chooose threshold to exclude outlier SNPs based on median BAF\n",
    "ggplot(\n",
    "    snp_bafs_iwg,\n",
    "    aes(x = valor_median)\n",
    ") +\n",
    "geom_histogram(bins = 200) +\n",
    "ggtitle(median(snp_bafs_iwg$valor_median)) +\n",
    "geom_vline(xintercept = median(snp_bafs_iwg$valor_median) + 0.4) +\n",
    "geom_vline(xintercept = median(snp_bafs_iwg$valor_median) - 0.4)"
   ]
  },
  {
   "cell_type": "code",
   "execution_count": 8,
   "metadata": {},
   "outputs": [
    {
     "name": "stderr",
     "output_type": "stream",
     "text": [
      "Warning message:\n",
      "“Removed 9554 rows containing non-finite values (stat_bin).”\n"
     ]
    },
    {
     "data": {
      "image/png": "[encoded data removed]",
      "text/plain": [
       "plot without title"
      ]
     },
     "metadata": {
      "image/png": {
       "height": 200,
       "width": 500
      },
      "text/plain": {
       "height": 200,
       "width": 500
      }
     },
     "output_type": "display_data"
    }
   ],
   "source": [
    "options(repr.plot.width = 5, repr.plot.height = 2, repr.plot.res = 200)\n",
    "\n",
    "# visualize and chooose threshold to exclude outlier SNPs based on BAF variance\n",
    "ggplot(\n",
    "    snp_bafs_iwg,\n",
    "    aes(x = valor_sd)\n",
    ") +\n",
    "geom_histogram(bins = 200) +\n",
    "geom_vline(xintercept = 0.4)"
   ]
  },
  {
   "cell_type": "code",
   "execution_count": 9,
   "metadata": {},
   "outputs": [
    {
     "name": "stderr",
     "output_type": "stream",
     "text": [
      "Warning message in ifelse(chr == \"X\", 23, as.integer(chr)):\n",
      "“NAs introduced by coercion”\n"
     ]
    }
   ],
   "source": [
    "# calculate SNP-specific coverage distribution across samples\n",
    "depths_iwg = lapply(pileups, function(pu){\n",
    "        pu %>% mutate(\n",
    "            depth = File1R + File1A\n",
    "        ) %>%\n",
    "        select(chr = Chromosome, pos = Position, depth)\n",
    "    }) %>%\n",
    "    Reduce(rbind, .) %>%\n",
    "    mutate(chr = ifelse(chr == 'X', 23, as.integer(chr))) %>%\n",
    "    mutate(snp_index = paste0(chr, '_', pos))\n",
    "\n",
    "depths_iwg = depths_iwg %>% \n",
    "    group_by(snp_index) %>%\n",
    "    summarise(\n",
    "        depth_median = median(depth),\n",
    "        n = n()\n",
    "    )"
   ]
  },
  {
   "cell_type": "code",
   "execution_count": 10,
   "metadata": {},
   "outputs": [
    {
     "name": "stderr",
     "output_type": "stream",
     "text": [
      "Warning message:\n",
      "“Removed 19 rows containing non-finite values (stat_bin).”\n",
      "Warning message:\n",
      "“Removed 2 rows containing missing values (geom_bar).”\n"
     ]
    },
    {
     "data": {
      "image/png": "[encoded data removed]",
      "text/plain": [
       "plot without title"
      ]
     },
     "metadata": {
      "image/png": {
       "height": 200,
       "width": 500
      },
      "text/plain": {
       "height": 200,
       "width": 500
      }
     },
     "output_type": "display_data"
    }
   ],
   "source": [
    "options(repr.plot.width = 5, repr.plot.height = 2, repr.plot.res = 200)\n",
    "\n",
    "# visualize and chooose coverage threshold to exclude poorly covered SNPs\n",
    "ggplot(\n",
    "    depths_iwg,\n",
    "    aes(x = depth_median)\n",
    ") +\n",
    "geom_histogram(bins = 100) +\n",
    "xlim(0, 2000) +\n",
    "geom_vline(xintercept = 125)"
   ]
  },
  {
   "cell_type": "markdown",
   "metadata": {},
   "source": [
    "## Create files"
   ]
  },
  {
   "cell_type": "code",
   "execution_count": 12,
   "metadata": {},
   "outputs": [],
   "source": [
    "# create hetero SNP whitelist. You may change the thresholds based on the diagnostic plots above\n",
    "snp_low_cov_iwg = depths_iwg %>% filter(depth_median < 125) %>% pull(snp_index)\n",
    "\n",
    "het_whitelist_iwg = snp_bafs_iwg %>% filter(\n",
    "        valor_median < median(valor_median) + 0.4 &\n",
    "        valor_median > median(valor_median) - 0.4 &\n",
    "        (n == 1 | valor_sd < 0.4)\n",
    "    ) %>% \n",
    "    filter(!snp_index %in% snp_low_cov_iwg) %>%\n",
    "    pull(snp_index)\n",
    "\n",
    "het_bias_iwg = hets_iwg %>%\n",
    "    filter(snp_index %in% het_whitelist_iwg) %>%\n",
    "    group_by(snp_index) %>%\n",
    "    summarise(\n",
    "        bias_mean = mean(valor),\n",
    "        bias_median = median(valor),\n",
    "        n = n()\n",
    "    )"
   ]
  },
  {
   "cell_type": "code",
   "execution_count": 13,
   "metadata": {},
   "outputs": [],
   "source": [
    "db_dir = '/work/isabl/ref/homo_sapiens/GRCh37d5/facets_ch/db'\n",
    "\n",
    "# Write het snps whitelist\n",
    "fwrite(\n",
    "    list(het_whitelist_iwg), \n",
    "    glue('{db_dir}/het_whitelist_{panel}.tsv'), \n",
    "    sep = '\\t'\n",
    ")\n",
    "\n",
    "# Write het snps bias\n",
    "het_bias_iwg %>% \n",
    "    fwrite(\n",
    "        glue('{db_dir}/het_bias_{panel}.tsv'), \n",
    "        sep = '\\t'\n",
    "    )"
   ]
  },
  {
   "cell_type": "markdown",
   "metadata": {},
   "source": [
    "# Create SNP blacklist based on logR"
   ]
  },
  {
   "cell_type": "markdown",
   "metadata": {},
   "source": [
    "## Calculate distribution"
   ]
  },
  {
   "cell_type": "code",
   "execution_count": 16,
   "metadata": {},
   "outputs": [],
   "source": [
    "pon_iwg = pon\n",
    "\n",
    "# number of females in PON\n",
    "nf = 64\n",
    "# number of males in PON\n",
    "nm = 58\n",
    "# total number of samples in PON\n",
    "n = 122\n",
    "# identify pairs to compare against each other\n",
    "females = which(pon_iwg[['Sex']] == 'Female')[1:n]\n",
    "males = which(pon_iwg[['Sex']] == 'Male')[1:n]\n",
    "pairs = rbind(\n",
    "    cbind(\n",
    "        females[1:floor(nf/2)],\n",
    "        females[(floor(nf/2) + 1):nf]\n",
    "    ),\n",
    "    cbind(\n",
    "        males[1:floor(nm/2)],\n",
    "        males[(floor(nm/2) + 1):nm]\n",
    "    )\n",
    ")"
   ]
  },
  {
   "cell_type": "code",
   "execution_count": 17,
   "metadata": {},
   "outputs": [],
   "source": [
    "# calculate logR for each sample pair\n",
    "sigs_pon = lapply(1:nm, function(i) {\n",
    "    pair = pairs[i,]\n",
    "    get_logr(pileups[[pair[1]]], pileups[[pair[2]]], 0, 25) %>%\n",
    "    mutate(normal = i) %>%\n",
    "    select(chrom, maploc, cnlr, normal)\n",
    "})\n",
    "\n",
    "sigs_pon = Reduce(rbind, sigs_pon)\n",
    "\n",
    "sigs_pon = sigs_pon %>% mutate(snp_index = paste0(chrom, '_', maploc))\n",
    "\n",
    "cnlrs = sigs_pon %>% \n",
    "    group_by(snp_index) %>%\n",
    "    summarise(\n",
    "        cnlr_mean = mean(cnlr),\n",
    "        cnlr_sd = sd(cnlr),\n",
    "        cnlr_n = n()\n",
    "    ) %>%\n",
    "    ungroup()"
   ]
  },
  {
   "cell_type": "markdown",
   "metadata": {},
   "source": [
    "## Diagnostic plots"
   ]
  },
  {
   "cell_type": "code",
   "execution_count": 18,
   "metadata": {},
   "outputs": [
    {
     "name": "stderr",
     "output_type": "stream",
     "text": [
      "Warning message:\n",
      "“Removed 7815 rows containing non-finite values (stat_bin).”\n",
      "Warning message:\n",
      "“Removed 2 rows containing missing values (geom_bar).”\n"
     ]
    },
    {
     "data": {
      "image/png": "[encoded data removed]",
      "text/plain": [
       "plot without title"
      ]
     },
     "metadata": {
      "image/png": {
       "height": 200,
       "width": 500
      },
      "text/plain": {
       "height": 200,
       "width": 500
      }
     },
     "output_type": "display_data"
    }
   ],
   "source": [
    "options(repr.plot.width = 5, repr.plot.height = 2, repr.plot.res = 200)\n",
    "\n",
    "# visualize and choose thresolds to exclude SNPs with aberrant logR mean\n",
    "ggplot(\n",
    "    cnlrs,\n",
    "    aes(cnlr_mean)\n",
    ") +\n",
    "geom_histogram(bins = 200) +\n",
    "geom_vline(xintercept = -0.25, color = 'red') +\n",
    "geom_vline(xintercept = 0.25, color = 'red') +\n",
    "xlim(-1, 0.5)"
   ]
  },
  {
   "cell_type": "code",
   "execution_count": 19,
   "metadata": {},
   "outputs": [
    {
     "name": "stderr",
     "output_type": "stream",
     "text": [
      "Warning message:\n",
      "“Removed 6385 rows containing non-finite values (stat_bin).”\n"
     ]
    },
    {
     "data": {
      "image/png": "[encoded data removed]",
      "text/plain": [
       "plot without title"
      ]
     },
     "metadata": {
      "image/png": {
       "height": 200,
       "width": 500
      },
      "text/plain": {
       "height": 200,
       "width": 500
      }
     },
     "output_type": "display_data"
    }
   ],
   "source": [
    "options(repr.plot.width = 5, repr.plot.height = 2, repr.plot.res = 200)\n",
    "\n",
    "# visualize and choose thresolds to exclude SNPs with large logR variance\n",
    "ggplot(\n",
    "    cnlrs,\n",
    "    aes(cnlr_sd)\n",
    ") +\n",
    "geom_histogram(bins = 200) +\n",
    "geom_vline(xintercept = 0.75, color = 'red')"
   ]
  },
  {
   "cell_type": "code",
   "execution_count": 20,
   "metadata": {},
   "outputs": [
    {
     "data": {
      "image/png": "[encoded data removed]",
      "text/plain": [
       "plot without title"
      ]
     },
     "metadata": {
      "image/png": {
       "height": 200,
       "width": 500
      },
      "text/plain": {
       "height": 200,
       "width": 500
      }
     },
     "output_type": "display_data"
    }
   ],
   "source": [
    "options(repr.plot.width = 5, repr.plot.height = 2, repr.plot.res = 200)\n",
    "\n",
    "# visualize and choose thresolds to exclude SNPs that are not covered well\n",
    "ggplot(\n",
    "    cnlrs,\n",
    "    aes(cnlr_n)\n",
    ") +\n",
    "geom_histogram(bins = 200) +\n",
    "geom_vline(xintercept = 55, color = 'red')"
   ]
  },
  {
   "cell_type": "markdown",
   "metadata": {},
   "source": [
    "# Create files"
   ]
  },
  {
   "cell_type": "code",
   "execution_count": 21,
   "metadata": {},
   "outputs": [],
   "source": [
    "# create and write SNP blacklist to DB. You may change the thresholds based on the diagnostic plots above\n",
    "snp_blacklist_iwg = cnlrs %>% \n",
    "    filter(cnlr_mean < -0.25 | cnlr_mean > 0.25 | cnlr_sd > 0.75 | (cnlr_n <= 55 & (!snp_index %in% het_whitelist_iwg))) %>% \n",
    "    pull(snp_index)\n",
    "\n",
    "list(snp_blacklist_iwg) %>% \n",
    "    fwrite(glue('{db_dir}/snp_blacklist_{panel}.tsv'))"
   ]
  }
 ],
 "metadata": {
  "kernelspec": {
   "display_name": "R",
   "language": "R",
   "name": "ir"
  },
  "language_info": {
   "codemirror_mode": "r",
   "file_extension": ".r",
   "mimetype": "text/x-r-source",
   "name": "R",
   "pygments_lexer": "r",
   "version": "4.0.2"
  },
  "toc": {
   "base_numbering": 1,
   "nav_menu": {},
   "number_sections": true,
   "sideBar": true,
   "skip_h1_title": false,
   "title_cell": "Table of Contents",
   "title_sidebar": "Contents",
   "toc_cell": false,
   "toc_position": {
    "height": "calc(100% - 180px)",
    "left": "10px",
    "top": "150px",
    "width": "288px"
   },
   "toc_section_display": true,
   "toc_window_display": true
  }
 },
 "nbformat": 4,
 "nbformat_minor": 2
}
